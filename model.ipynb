{
 "cells": [
  {
   "cell_type": "code",
   "execution_count": 1,
   "metadata": {},
   "outputs": [],
   "source": [
    "import pandas as pd\n",
    "import numpy as np\n",
    "import matplotlib.pyplot as plt\n",
    "import sklearn as sk\n",
    "import seaborn as sns"
   ]
  },
  {
   "cell_type": "code",
   "execution_count": 2,
   "metadata": {},
   "outputs": [
    {
     "data": {
      "text/html": [
       "<div>\n",
       "<style scoped>\n",
       "    .dataframe tbody tr th:only-of-type {\n",
       "        vertical-align: middle;\n",
       "    }\n",
       "\n",
       "    .dataframe tbody tr th {\n",
       "        vertical-align: top;\n",
       "    }\n",
       "\n",
       "    .dataframe thead th {\n",
       "        text-align: right;\n",
       "    }\n",
       "</style>\n",
       "<table border=\"1\" class=\"dataframe\">\n",
       "  <thead>\n",
       "    <tr style=\"text-align: right;\">\n",
       "      <th></th>\n",
       "      <th>date</th>\n",
       "      <th>city</th>\n",
       "      <th>state</th>\n",
       "      <th>high_or_low</th>\n",
       "      <th>forecast_hours_before</th>\n",
       "      <th>observed_temp</th>\n",
       "      <th>forecast_temp</th>\n",
       "      <th>observed_precip</th>\n",
       "      <th>forecast_outlook</th>\n",
       "      <th>possible_error</th>\n",
       "    </tr>\n",
       "  </thead>\n",
       "  <tbody>\n",
       "    <tr>\n",
       "      <th>0</th>\n",
       "      <td>2021-01-30</td>\n",
       "      <td>ABILENE</td>\n",
       "      <td>TX</td>\n",
       "      <td>high</td>\n",
       "      <td>48</td>\n",
       "      <td>70.0</td>\n",
       "      <td>NaN</td>\n",
       "      <td>0.0</td>\n",
       "      <td>NaN</td>\n",
       "      <td>none</td>\n",
       "    </tr>\n",
       "    <tr>\n",
       "      <th>1</th>\n",
       "      <td>2021-01-30</td>\n",
       "      <td>ABILENE</td>\n",
       "      <td>TX</td>\n",
       "      <td>high</td>\n",
       "      <td>36</td>\n",
       "      <td>70.0</td>\n",
       "      <td>NaN</td>\n",
       "      <td>0.0</td>\n",
       "      <td>NaN</td>\n",
       "      <td>none</td>\n",
       "    </tr>\n",
       "    <tr>\n",
       "      <th>2</th>\n",
       "      <td>2021-01-30</td>\n",
       "      <td>ABILENE</td>\n",
       "      <td>TX</td>\n",
       "      <td>high</td>\n",
       "      <td>24</td>\n",
       "      <td>70.0</td>\n",
       "      <td>NaN</td>\n",
       "      <td>0.0</td>\n",
       "      <td>NaN</td>\n",
       "      <td>none</td>\n",
       "    </tr>\n",
       "    <tr>\n",
       "      <th>3</th>\n",
       "      <td>2021-01-30</td>\n",
       "      <td>ABILENE</td>\n",
       "      <td>TX</td>\n",
       "      <td>high</td>\n",
       "      <td>12</td>\n",
       "      <td>70.0</td>\n",
       "      <td>70.0</td>\n",
       "      <td>0.0</td>\n",
       "      <td>DUST</td>\n",
       "      <td>none</td>\n",
       "    </tr>\n",
       "    <tr>\n",
       "      <th>4</th>\n",
       "      <td>2021-01-30</td>\n",
       "      <td>ABILENE</td>\n",
       "      <td>TX</td>\n",
       "      <td>low</td>\n",
       "      <td>48</td>\n",
       "      <td>42.0</td>\n",
       "      <td>NaN</td>\n",
       "      <td>0.0</td>\n",
       "      <td>NaN</td>\n",
       "      <td>none</td>\n",
       "    </tr>\n",
       "  </tbody>\n",
       "</table>\n",
       "</div>"
      ],
      "text/plain": [
       "         date     city state high_or_low  forecast_hours_before  \\\n",
       "0  2021-01-30  ABILENE    TX        high                     48   \n",
       "1  2021-01-30  ABILENE    TX        high                     36   \n",
       "2  2021-01-30  ABILENE    TX        high                     24   \n",
       "3  2021-01-30  ABILENE    TX        high                     12   \n",
       "4  2021-01-30  ABILENE    TX         low                     48   \n",
       "\n",
       "   observed_temp  forecast_temp  observed_precip forecast_outlook  \\\n",
       "0           70.0            NaN              0.0              NaN   \n",
       "1           70.0            NaN              0.0              NaN   \n",
       "2           70.0            NaN              0.0              NaN   \n",
       "3           70.0           70.0              0.0             DUST   \n",
       "4           42.0            NaN              0.0              NaN   \n",
       "\n",
       "  possible_error  \n",
       "0           none  \n",
       "1           none  \n",
       "2           none  \n",
       "3           none  \n",
       "4           none  "
      ]
     },
     "execution_count": 2,
     "metadata": {},
     "output_type": "execute_result"
    }
   ],
   "source": [
    "df = pd.read_csv('weather_forecasts.csv')\n",
    "df.head()"
   ]
  },
  {
   "cell_type": "code",
   "execution_count": 3,
   "metadata": {},
   "outputs": [
    {
     "name": "stdout",
     "output_type": "stream",
     "text": [
      "<class 'pandas.core.frame.DataFrame'>\n",
      "RangeIndex: 651968 entries, 0 to 651967\n",
      "Data columns (total 10 columns):\n",
      " #   Column                 Non-Null Count   Dtype  \n",
      "---  ------                 --------------   -----  \n",
      " 0   date                   651968 non-null  object \n",
      " 1   city                   651968 non-null  object \n",
      " 2   state                  651968 non-null  object \n",
      " 3   high_or_low            651968 non-null  object \n",
      " 4   forecast_hours_before  651968 non-null  int64  \n",
      " 5   observed_temp          604224 non-null  float64\n",
      " 6   forecast_temp          614655 non-null  float64\n",
      " 7   observed_precip        601552 non-null  float64\n",
      " 8   forecast_outlook       614093 non-null  object \n",
      " 9   possible_error         651968 non-null  object \n",
      "dtypes: float64(3), int64(1), object(6)\n",
      "memory usage: 49.7+ MB\n"
     ]
    }
   ],
   "source": [
    "df.info()"
   ]
  },
  {
   "cell_type": "code",
   "execution_count": 4,
   "metadata": {},
   "outputs": [
    {
     "data": {
      "text/html": [
       "<div>\n",
       "<style scoped>\n",
       "    .dataframe tbody tr th:only-of-type {\n",
       "        vertical-align: middle;\n",
       "    }\n",
       "\n",
       "    .dataframe tbody tr th {\n",
       "        vertical-align: top;\n",
       "    }\n",
       "\n",
       "    .dataframe thead th {\n",
       "        text-align: right;\n",
       "    }\n",
       "</style>\n",
       "<table border=\"1\" class=\"dataframe\">\n",
       "  <thead>\n",
       "    <tr style=\"text-align: right;\">\n",
       "      <th></th>\n",
       "      <th>forecast_hours_before</th>\n",
       "      <th>observed_temp</th>\n",
       "      <th>forecast_temp</th>\n",
       "      <th>observed_precip</th>\n",
       "    </tr>\n",
       "  </thead>\n",
       "  <tbody>\n",
       "    <tr>\n",
       "      <th>count</th>\n",
       "      <td>651968.000000</td>\n",
       "      <td>604224.000000</td>\n",
       "      <td>614655.000000</td>\n",
       "      <td>601552.000000</td>\n",
       "    </tr>\n",
       "    <tr>\n",
       "      <th>mean</th>\n",
       "      <td>30.000000</td>\n",
       "      <td>57.563837</td>\n",
       "      <td>57.360754</td>\n",
       "      <td>0.098873</td>\n",
       "    </tr>\n",
       "    <tr>\n",
       "      <th>std</th>\n",
       "      <td>13.416418</td>\n",
       "      <td>21.810184</td>\n",
       "      <td>21.819017</td>\n",
       "      <td>0.324311</td>\n",
       "    </tr>\n",
       "    <tr>\n",
       "      <th>min</th>\n",
       "      <td>12.000000</td>\n",
       "      <td>-47.000000</td>\n",
       "      <td>-41.000000</td>\n",
       "      <td>0.000000</td>\n",
       "    </tr>\n",
       "    <tr>\n",
       "      <th>25%</th>\n",
       "      <td>21.000000</td>\n",
       "      <td>42.000000</td>\n",
       "      <td>42.000000</td>\n",
       "      <td>0.000000</td>\n",
       "    </tr>\n",
       "    <tr>\n",
       "      <th>50%</th>\n",
       "      <td>30.000000</td>\n",
       "      <td>59.000000</td>\n",
       "      <td>59.000000</td>\n",
       "      <td>0.000000</td>\n",
       "    </tr>\n",
       "    <tr>\n",
       "      <th>75%</th>\n",
       "      <td>39.000000</td>\n",
       "      <td>74.000000</td>\n",
       "      <td>74.000000</td>\n",
       "      <td>0.020000</td>\n",
       "    </tr>\n",
       "    <tr>\n",
       "      <th>max</th>\n",
       "      <td>48.000000</td>\n",
       "      <td>122.000000</td>\n",
       "      <td>118.000000</td>\n",
       "      <td>12.400000</td>\n",
       "    </tr>\n",
       "  </tbody>\n",
       "</table>\n",
       "</div>"
      ],
      "text/plain": [
       "       forecast_hours_before  observed_temp  forecast_temp  observed_precip\n",
       "count          651968.000000  604224.000000  614655.000000    601552.000000\n",
       "mean               30.000000      57.563837      57.360754         0.098873\n",
       "std                13.416418      21.810184      21.819017         0.324311\n",
       "min                12.000000     -47.000000     -41.000000         0.000000\n",
       "25%                21.000000      42.000000      42.000000         0.000000\n",
       "50%                30.000000      59.000000      59.000000         0.000000\n",
       "75%                39.000000      74.000000      74.000000         0.020000\n",
       "max                48.000000     122.000000     118.000000        12.400000"
      ]
     },
     "execution_count": 4,
     "metadata": {},
     "output_type": "execute_result"
    }
   ],
   "source": [
    "df.describe()"
   ]
  },
  {
   "cell_type": "code",
   "execution_count": 5,
   "metadata": {},
   "outputs": [
    {
     "data": {
      "text/plain": [
       "Index(['date', 'city', 'state', 'high_or_low', 'forecast_hours_before',\n",
       "       'observed_temp', 'forecast_temp', 'observed_precip', 'forecast_outlook',\n",
       "       'possible_error'],\n",
       "      dtype='object')"
      ]
     },
     "execution_count": 5,
     "metadata": {},
     "output_type": "execute_result"
    }
   ],
   "source": [
    "df.columns"
   ]
  },
  {
   "cell_type": "code",
   "execution_count": 6,
   "metadata": {},
   "outputs": [
    {
     "data": {
      "text/plain": [
       "array(['ABILENE', 'AKRON_CANTON', 'ALBANY', 'ALBUQUERQUE', 'ALLENTOWN',\n",
       "       'AMARILLO', 'ANCHORAGE', 'ASHEVILLE', 'ATLANTA', 'ATLANTIC_CITY',\n",
       "       'AUSTIN', 'BALTIMORE', 'BATON_ROUGE', 'BILLINGS', 'BIRMINGHAM',\n",
       "       'BISMARCK', 'BOISE', 'BOSTON', 'BRIDGEPORT', 'BROWNSVILLE',\n",
       "       'BUFFALO', 'BURLINGTON', 'CARIBOU', 'CASPER', 'CHARLESTON',\n",
       "       'CHARLOTTE', 'CHATTANOOGA', 'CHEYENNE', 'CHICAGO', 'CINCINNATI',\n",
       "       'CLEVELAND', 'COLORADO_SPGS', 'COLUMBIA', 'COLUMBUS', 'LINCOLN',\n",
       "       'LITTLE_ROCK', 'LOS_ANGELES', 'LOUISVILLE', 'LUBBOCK', 'MACON',\n",
       "       'MADISON', 'MEDFORD', 'MEMPHIS', 'MIAMI_BEACH', 'MIDLAND_ODESSA',\n",
       "       'MILWAUKEE', 'MPLS_ST_PAUL', 'MISSOULA', 'MOBILE', 'MONTGOMERY',\n",
       "       'NASHVILLE', 'NEW_ORLEANS', 'NEW_YORK_CITY', 'NEWARK', 'NORFOLK',\n",
       "       'NORTH_PLATTE', 'OKLAHOMA_CITY', 'OMAHA', 'ORLANDO', 'PADUCAH',\n",
       "       'PENDLETON', 'PEORIA', 'PHILADELPHIA', 'PHOENIX', 'PITTSBURGH',\n",
       "       'POCATELLO', 'PORTLAND', 'PROVIDENCE', 'PUEBLO', 'RALEIGH_DURHAM',\n",
       "       'RAPID_CITY', 'RENO', 'RICHMOND', 'ROANOKE', 'ROCHESTER',\n",
       "       'ROCKFORD', 'SACRAMENTO', 'ST_LOUIS', 'ST_PETERSBURG', 'ST_THOMAS',\n",
       "       'CONCORD', 'CORPUS_CHRISTI', 'DALLAS_FT_WORTH', 'DAYTON',\n",
       "       'DAYTONA_BEACH', 'DENVER', 'DES_MOINES', 'DETROIT', 'DULUTH',\n",
       "       'EL_PASO', 'ELKINS', 'ERIE', 'EUGENE', 'EVANSVILLE', 'FAIRBANKS',\n",
       "       'FARGO', 'FLAGSTAFF', 'FLINT', 'FORT_SMITH', 'FORT_WAYNE',\n",
       "       'FRESNO', 'GOODLAND', 'GRAND_JUNCTION', 'GRAND_RAPIDS',\n",
       "       'GREAT_FALLS', 'GREEN_BAY', 'GREENSBORO', 'HARRISBURG',\n",
       "       'HARTFORD_SPGFLD', 'HELENA', 'HONOLULU', 'HOUSTON', 'HUNTSVILLE',\n",
       "       'INDIANAPOLIS', 'JACKSON', 'JACKSONVILLE', 'JUNEAU', 'KANSAS_CITY',\n",
       "       'KEY_WEST', 'KNOXVILLE', 'LAKE_CHARLES', 'LANSING', 'LAS_VEGAS',\n",
       "       'LEXINGTON', 'SALEM', 'SALT_LAKE_CITY', 'SAN_ANGELO',\n",
       "       'SAN_ANTONIO', 'SAN_DIEGO', 'SAN_FRANCISCO', 'SAN_JOSE',\n",
       "       'SAN_JUAN', 'SANTA_FE', 'ST_STE_MARIE', 'SAVANNAH', 'SEATTLE',\n",
       "       'SHREVEPORT', 'SIOUX_CITY', 'SIOUX_FALLS', 'SOUTH_BEND', 'SPOKANE',\n",
       "       'SPRINGFIELD', 'SYRACUSE', 'TALLAHASSEE', 'TAMPA', 'TOLEDO',\n",
       "       'TOPEKA', 'TUCSON', 'TULSA', 'TUPELO', 'WACO', 'WASHINGTON',\n",
       "       'W_PALM_BEACH', 'WICHITA', 'WICHITA_FALLS', 'WILKES_BARRE',\n",
       "       'WILMINGTON', 'YAKIMA', 'YOUNGSTOWN', 'YUMA'], dtype=object)"
      ]
     },
     "execution_count": 6,
     "metadata": {},
     "output_type": "execute_result"
    }
   ],
   "source": [
    "#unique values from city column\n",
    "df['city'].unique()"
   ]
  },
  {
   "cell_type": "code",
   "execution_count": 7,
   "metadata": {},
   "outputs": [
    {
     "data": {
      "text/plain": [
       "160"
      ]
     },
     "execution_count": 7,
     "metadata": {},
     "output_type": "execute_result"
    }
   ],
   "source": [
    "#amount of unique values from city column\n",
    "df['city'].nunique()"
   ]
  },
  {
   "cell_type": "code",
   "execution_count": 8,
   "metadata": {},
   "outputs": [
    {
     "data": {
      "text/plain": [
       "53"
      ]
     },
     "execution_count": 8,
     "metadata": {},
     "output_type": "execute_result"
    }
   ],
   "source": [
    "#amount of unique values from state column\n",
    "df['state'].nunique()"
   ]
  },
  {
   "cell_type": "code",
   "execution_count": 9,
   "metadata": {},
   "outputs": [
    {
     "data": {
      "text/plain": [
       "array(['TX', 'OH', 'NY', 'NM', 'PA', 'AK', 'NC', 'GA', 'NJ', 'MD', 'LA',\n",
       "       'MT', 'AL', 'ND', 'ID', 'MA', 'CT', 'WY', 'VT', 'ME', 'SC', 'WV',\n",
       "       'TN', 'IL', 'CO', 'NE', 'AR', 'CA', 'KY', 'WI', 'OR', 'FL', 'MN',\n",
       "       'VA', 'OK', 'AZ', 'RI', 'SD', 'NV', 'MO', 'VI', 'NH', 'IA', 'MI',\n",
       "       'IN', 'KS', 'HI', 'MS', 'UT', 'PR', 'WA', 'DC', 'DE'], dtype=object)"
      ]
     },
     "execution_count": 9,
     "metadata": {},
     "output_type": "execute_result"
    }
   ],
   "source": [
    "#unique values from state colum\n",
    "df['state'].unique()"
   ]
  },
  {
   "cell_type": "code",
   "execution_count": 10,
   "metadata": {},
   "outputs": [
    {
     "data": {
      "text/plain": [
       "array(['high', 'low'], dtype=object)"
      ]
     },
     "execution_count": 10,
     "metadata": {},
     "output_type": "execute_result"
    }
   ],
   "source": [
    "#unique values from high_or_low colum\n",
    "df['high_or_low'].unique()"
   ]
  },
  {
   "cell_type": "code",
   "execution_count": 11,
   "metadata": {},
   "outputs": [
    {
     "data": {
      "text/plain": [
       "array([nan, 'DUST', 'SUNNY', 'MOCLDY', 'SNOW', 'PTCLDY', 'RAIN', 'SHWRS',\n",
       "       'CLOUDY', 'FZDRZL', 'FOG', 'WINDY', 'SNOSHW', 'RNSNOW', 'SLEET',\n",
       "       'VRYCLD', 'FZRAIN', 'TSTRMS', 'BLZZRD', 'FLRRYS', 'BLGSNO', 'DRZL',\n",
       "       'VRYHOT', 'SMOKE'], dtype=object)"
      ]
     },
     "execution_count": 11,
     "metadata": {},
     "output_type": "execute_result"
    }
   ],
   "source": [
    "#unique values from forecast_outlook colum\n",
    "df['forecast_outlook'].unique()"
   ]
  },
  {
   "cell_type": "code",
   "execution_count": 12,
   "metadata": {},
   "outputs": [
    {
     "data": {
      "text/plain": [
       "array(['none', 'forecast_outlook', 'forecast_temp', 'observed_temp'],\n",
       "      dtype=object)"
      ]
     },
     "execution_count": 12,
     "metadata": {},
     "output_type": "execute_result"
    }
   ],
   "source": [
    "#unique values from possible_error colum\n",
    "df['possible_error'].unique()"
   ]
  },
  {
   "cell_type": "code",
   "execution_count": null,
   "metadata": {},
   "outputs": [],
   "source": []
  }
 ],
 "metadata": {
  "kernelspec": {
   "display_name": "base",
   "language": "python",
   "name": "python3"
  },
  "language_info": {
   "codemirror_mode": {
    "name": "ipython",
    "version": 3
   },
   "file_extension": ".py",
   "mimetype": "text/x-python",
   "name": "python",
   "nbconvert_exporter": "python",
   "pygments_lexer": "ipython3",
   "version": "3.9.13"
  }
 },
 "nbformat": 4,
 "nbformat_minor": 2
}
